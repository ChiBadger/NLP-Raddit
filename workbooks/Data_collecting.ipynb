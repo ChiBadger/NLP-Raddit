{
 "cells": [
  {
   "cell_type": "markdown",
   "id": "9c6399e7-1fa7-4855-9349-01fee95aceb8",
   "metadata": {},
   "source": [
    "## Data Collecting"
   ]
  },
  {
   "cell_type": "markdown",
   "id": "d8358962-d7fb-4e05-8388-d446239a0997",
   "metadata": {},
   "source": [
    "### Imports"
   ]
  },
  {
   "cell_type": "code",
   "execution_count": 1,
   "id": "cde66a98-5779-4834-a30f-20040f1bc0f6",
   "metadata": {},
   "outputs": [],
   "source": [
    "import requests \n",
    "import pandas as pd"
   ]
  },
  {
   "cell_type": "markdown",
   "id": "b2bf4e1d-835d-485e-8296-1941a91d798a",
   "metadata": {},
   "source": [
    "### Collecting Posts from Reddit API"
   ]
  },
  {
   "cell_type": "code",
   "execution_count": 2,
   "id": "4d858ecd-d213-4361-9f73-c5551118f9d8",
   "metadata": {},
   "outputs": [],
   "source": [
    "def get_submission(subreddit,num): \n",
    "    titles = [] # empty list to store 'titles'\n",
    "    subreddits = [] #empty list to store 'subreddits'\n",
    "    df = pd.DataFrame(columns = ['title', 'subreddit']) # create a dataframe to store API data\n",
    "    url = 'https://api.pushshift.io/reddit/search/submission' # setting up API url \n",
    "    min_time = None # setup after as none to start the looping\n",
    "\n",
    "    for j in range(num//100): # setting up iterations based on number of records to pull. \n",
    "        if min_time == None:\n",
    "            para = {\n",
    "                'subreddit' : subreddit,\n",
    "                'size' :num\n",
    "                }\n",
    "        else:\n",
    "            para = {\n",
    "                'subreddit' : subreddit,\n",
    "                'before' : min_time,\n",
    "                'size' :num\n",
    "                } \n",
    "        res = requests.get(url, params = para) # request pulling the data. \n",
    "        if res.status_code == 200: \n",
    "            data = res.json()\n",
    "            list_post = data['data'] # getting the data. \n",
    "            min_time = None # setting the parameters.\n",
    "            for i in range (len(list_post)):\n",
    "                current_post = list_post[i]\n",
    "                titles.append(current_post['title']) #adding titles to the empty list.\n",
    "                subreddits.append(current_post['subreddit']) #adding subreddits to the empty list\n",
    "                current_time = current_post['created_utc'] # extract the utc timing. \n",
    "                if min_time is None or min_time > current_time: \n",
    "                    min_time = current_time # finding the min time. \n",
    "    df['title'] = titles # adding title data to the dataframe\n",
    "    df['subreddit'] = subreddit # adding subreddit data to the dataframe\n",
    "    return df"
   ]
  },
  {
   "cell_type": "code",
   "execution_count": 3,
   "id": "05dbf805-19d4-46ef-8405-5ae769fda20d",
   "metadata": {},
   "outputs": [],
   "source": [
    "stock = get_submission('StockMarket', 3000)"
   ]
  },
  {
   "cell_type": "code",
   "execution_count": 4,
   "id": "38fa2595-9d02-42bf-a4d6-452614a6e5c4",
   "metadata": {},
   "outputs": [],
   "source": [
    "crypto = get_submission('CryptoCurrency', 3000)"
   ]
  },
  {
   "cell_type": "markdown",
   "id": "61d63122-f675-41e8-8b58-80fa4ad03dc7",
   "metadata": {},
   "source": [
    "### Combining & Saving Dataframe"
   ]
  },
  {
   "cell_type": "code",
   "execution_count": 5,
   "id": "ca649223-1ea0-4195-854b-636d36ba99a1",
   "metadata": {},
   "outputs": [],
   "source": [
    "data = pd.concat([stock, crypto])"
   ]
  },
  {
   "cell_type": "code",
   "execution_count": 6,
   "id": "b8d57d81-006b-4346-9eb6-1b8e6d996bca",
   "metadata": {},
   "outputs": [],
   "source": [
    "data.to_csv(\"../data/reddit_data.csv\", index=False) # saving the dataframe to a csv file "
   ]
  },
  {
   "cell_type": "markdown",
   "id": "0984dac9-3987-4ab0-845a-3651798007c3",
   "metadata": {},
   "source": [
    "### continued on next workbook `Cleaning_EDA`"
   ]
  }
 ],
 "metadata": {
  "kernelspec": {
   "display_name": "Python 3",
   "language": "python",
   "name": "python3"
  },
  "language_info": {
   "codemirror_mode": {
    "name": "ipython",
    "version": 3
   },
   "file_extension": ".py",
   "mimetype": "text/x-python",
   "name": "python",
   "nbconvert_exporter": "python",
   "pygments_lexer": "ipython3",
   "version": "3.8.8"
  },
  "widgets": {
   "application/vnd.jupyter.widget-state+json": {
    "state": {},
    "version_major": 2,
    "version_minor": 0
   }
  }
 },
 "nbformat": 4,
 "nbformat_minor": 5
}
