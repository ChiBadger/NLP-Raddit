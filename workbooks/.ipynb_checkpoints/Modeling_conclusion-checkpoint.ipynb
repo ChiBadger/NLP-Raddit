{
 "cells": [
  {
   "cell_type": "markdown",
   "id": "19bba939-0d63-4be0-ab02-9faa5826d079",
   "metadata": {},
   "source": [
    "# Modeling and Conclusion"
   ]
  },
  {
   "cell_type": "markdown",
   "id": "5df563a3-24ee-4d4b-8ba7-fae7f22391f9",
   "metadata": {},
   "source": [
    "## Imports"
   ]
  },
  {
   "cell_type": "code",
   "execution_count": 1,
   "id": "790bb9e8-3d42-4d3a-bb82-b333cc6556fe",
   "metadata": {},
   "outputs": [],
   "source": [
    "import pandas as pd\n",
    "import numpy as np\n",
    "import matplotlib.pyplot as plt\n",
    "\n",
    "from sklearn.feature_extraction.text import CountVectorizer\n",
    "from sklearn.model_selection import train_test_split, GridSearchCV, cross_val_score\n",
    "from sklearn.ensemble import RandomForestClassifier # RandomForest Model\n",
    "from sklearn.linear_model import LogisticRegression # Logistic Regression Model\n",
    "from sklearn.pipeline import Pipeline # Pipleline\n",
    "from sklearn.metrics import confusion_matrix, plot_confusion_matrix, accuracy_score, plot_roc_curve, roc_auc_score, recall_score, precision_score, f1_score,plot_roc_curve, roc_auc_score # Classification Metric"
   ]
  },
  {
   "cell_type": "markdown",
   "id": "aeb06c04-0717-4110-abe3-fd8f1b5c47a9",
   "metadata": {},
   "source": [
    "## Reading the data"
   ]
  },
  {
   "cell_type": "code",
   "execution_count": 2,
   "id": "f1bbd288-6c0a-44ef-8f4a-65ddc4f0ad0c",
   "metadata": {},
   "outputs": [],
   "source": [
    "data = pd.read_csv('../data/reddit_data_clean.csv')"
   ]
  },
  {
   "cell_type": "code",
   "execution_count": 3,
   "id": "9d6cda05-8551-462b-b224-650127ceebf3",
   "metadata": {},
   "outputs": [
    {
     "data": {
      "text/html": [
       "<div>\n",
       "<style scoped>\n",
       "    .dataframe tbody tr th:only-of-type {\n",
       "        vertical-align: middle;\n",
       "    }\n",
       "\n",
       "    .dataframe tbody tr th {\n",
       "        vertical-align: top;\n",
       "    }\n",
       "\n",
       "    .dataframe thead th {\n",
       "        text-align: right;\n",
       "    }\n",
       "</style>\n",
       "<table border=\"1\" class=\"dataframe\">\n",
       "  <thead>\n",
       "    <tr style=\"text-align: right;\">\n",
       "      <th></th>\n",
       "      <th>title</th>\n",
       "      <th>subreddit</th>\n",
       "      <th>clean_title</th>\n",
       "      <th>cat_subreddit</th>\n",
       "      <th>word_count</th>\n",
       "      <th>character_count</th>\n",
       "    </tr>\n",
       "  </thead>\n",
       "  <tbody>\n",
       "    <tr>\n",
       "      <th>0</th>\n",
       "      <td>NAKD becoming EV company</td>\n",
       "      <td>StockMarket</td>\n",
       "      <td>nakd becoming ev company</td>\n",
       "      <td>1</td>\n",
       "      <td>4</td>\n",
       "      <td>24</td>\n",
       "    </tr>\n",
       "    <tr>\n",
       "      <th>1</th>\n",
       "      <td>Biotech Due Diligence</td>\n",
       "      <td>StockMarket</td>\n",
       "      <td>biotech due diligence</td>\n",
       "      <td>1</td>\n",
       "      <td>3</td>\n",
       "      <td>21</td>\n",
       "    </tr>\n",
       "    <tr>\n",
       "      <th>2</th>\n",
       "      <td>IREN</td>\n",
       "      <td>StockMarket</td>\n",
       "      <td>iren</td>\n",
       "      <td>1</td>\n",
       "      <td>1</td>\n",
       "      <td>4</td>\n",
       "    </tr>\n",
       "    <tr>\n",
       "      <th>3</th>\n",
       "      <td>Beginner- can someone explain why IREN is perf...</td>\n",
       "      <td>StockMarket</td>\n",
       "      <td>beginner can someone explain why iren is perfo...</td>\n",
       "      <td>1</td>\n",
       "      <td>12</td>\n",
       "      <td>74</td>\n",
       "    </tr>\n",
       "    <tr>\n",
       "      <th>4</th>\n",
       "      <td>trading site</td>\n",
       "      <td>StockMarket</td>\n",
       "      <td>trading site</td>\n",
       "      <td>1</td>\n",
       "      <td>2</td>\n",
       "      <td>12</td>\n",
       "    </tr>\n",
       "  </tbody>\n",
       "</table>\n",
       "</div>"
      ],
      "text/plain": [
       "                                               title    subreddit  \\\n",
       "0                           NAKD becoming EV company  StockMarket   \n",
       "1                              Biotech Due Diligence  StockMarket   \n",
       "2                                               IREN  StockMarket   \n",
       "3  Beginner- can someone explain why IREN is perf...  StockMarket   \n",
       "4                                       trading site  StockMarket   \n",
       "\n",
       "                                         clean_title  cat_subreddit  \\\n",
       "0                           nakd becoming ev company              1   \n",
       "1                              biotech due diligence              1   \n",
       "2                                               iren              1   \n",
       "3  beginner can someone explain why iren is perfo...              1   \n",
       "4                                       trading site              1   \n",
       "\n",
       "   word_count  character_count  \n",
       "0           4               24  \n",
       "1           3               21  \n",
       "2           1                4  \n",
       "3          12               74  \n",
       "4           2               12  "
      ]
     },
     "execution_count": 3,
     "metadata": {},
     "output_type": "execute_result"
    }
   ],
   "source": [
    "data.head()"
   ]
  },
  {
   "cell_type": "markdown",
   "id": "85b73bd7-ca30-4a23-8282-6887b1635b25",
   "metadata": {},
   "source": [
    "## Preprocessing"
   ]
  },
  {
   "cell_type": "markdown",
   "id": "85180954-a4fc-4360-b791-b55f3170f161",
   "metadata": {},
   "source": [
    "##### _Checking the data again to see if any `NaN` which will impact our modeling process._"
   ]
  },
  {
   "cell_type": "code",
   "execution_count": 4,
   "id": "c9f1c2c8-8b1e-4910-96f4-5f968d148229",
   "metadata": {},
   "outputs": [],
   "source": [
    "data.dropna(inplace = True)"
   ]
  },
  {
   "cell_type": "code",
   "execution_count": 5,
   "id": "56a89b63-938d-4552-9f10-038330b5727a",
   "metadata": {},
   "outputs": [
    {
     "data": {
      "text/plain": [
       "title              0\n",
       "subreddit          0\n",
       "clean_title        0\n",
       "cat_subreddit      0\n",
       "word_count         0\n",
       "character_count    0\n",
       "dtype: int64"
      ]
     },
     "execution_count": 5,
     "metadata": {},
     "output_type": "execute_result"
    }
   ],
   "source": [
    "data.isnull().sum()"
   ]
  },
  {
   "cell_type": "code",
   "execution_count": 6,
   "id": "1357cf11-2bd4-4f2e-8930-126c37a4adec",
   "metadata": {},
   "outputs": [
    {
     "data": {
      "text/plain": [
       "(3188, 6)"
      ]
     },
     "execution_count": 6,
     "metadata": {},
     "output_type": "execute_result"
    }
   ],
   "source": [
    "data.shape"
   ]
  },
  {
   "cell_type": "markdown",
   "id": "8080ff8f-83a1-42e6-94de-f88c80e12883",
   "metadata": {},
   "source": [
    "#### _Set up features and predicted value `y`_"
   ]
  },
  {
   "cell_type": "code",
   "execution_count": 7,
   "id": "74e22113-47b3-400b-94c1-625b7d2c6e81",
   "metadata": {},
   "outputs": [],
   "source": [
    "X = data['clean_title']"
   ]
  },
  {
   "cell_type": "code",
   "execution_count": 8,
   "id": "77308def-bcaa-46b9-9224-70ddcf90414f",
   "metadata": {},
   "outputs": [],
   "source": [
    "y = data['cat_subreddit']"
   ]
  },
  {
   "cell_type": "markdown",
   "id": "de893a03-42d6-457b-b812-6adf62df1bf4",
   "metadata": {},
   "source": [
    "#### Baseline Accuracy"
   ]
  },
  {
   "cell_type": "code",
   "execution_count": 9,
   "id": "0d3e71ea-b5a7-4270-ad45-aa56a62bf132",
   "metadata": {},
   "outputs": [
    {
     "data": {
      "text/plain": [
       "1    0.623902\n",
       "0    0.376098\n",
       "Name: cat_subreddit, dtype: float64"
      ]
     },
     "execution_count": 9,
     "metadata": {},
     "output_type": "execute_result"
    }
   ],
   "source": [
    "y.value_counts(normalize = True) # baseline accuracy"
   ]
  },
  {
   "cell_type": "markdown",
   "id": "6e22f037-667f-44c7-bc40-d186ab4de87c",
   "metadata": {},
   "source": [
    "##### _The baseline accuracy is very important as it provides a metric for us to compare with future models._"
   ]
  },
  {
   "cell_type": "markdown",
   "id": "b580b5bc-08c3-471d-88f2-50a8239d3ad3",
   "metadata": {},
   "source": [
    "#### Train Test Split"
   ]
  },
  {
   "cell_type": "code",
   "execution_count": 10,
   "id": "f4c64d14-dffd-4244-b1dc-9db276615acc",
   "metadata": {},
   "outputs": [],
   "source": [
    "X_train, X_test, y_train, y_test =train_test_split(X,\n",
    "                                                   y,\n",
    "                                                   test_size=0.33,\n",
    "                                                   stratify=y,\n",
    "                                                   random_state=42\n",
    "                                                  )"
   ]
  },
  {
   "cell_type": "markdown",
   "id": "6de1b039-cc31-4da7-8b88-d041927b671b",
   "metadata": {},
   "source": [
    "##### _Splitting data into `train` and `test`. `train` data will be used to initiate the model and `test` data will be used to test how the model performs._"
   ]
  },
  {
   "cell_type": "markdown",
   "id": "b44bab9c-1653-4b4e-86ff-5dd9f670f5a1",
   "metadata": {},
   "source": [
    "## Modeling"
   ]
  },
  {
   "cell_type": "markdown",
   "id": "6954ed8a-0a29-409a-931e-4792064a2e3a",
   "metadata": {},
   "source": [
    "#### CountVectorizer with RandomForest Classifier"
   ]
  },
  {
   "cell_type": "markdown",
   "id": "94959208-e207-491c-9e3e-92d176c72de9",
   "metadata": {},
   "source": [
    "#### _Setting up pipeline_"
   ]
  },
  {
   "cell_type": "code",
   "execution_count": 11,
   "id": "46120872-73f9-4946-a1c3-8412d29ba047",
   "metadata": {},
   "outputs": [],
   "source": [
    "pipe_cvec_random = Pipeline([\n",
    "    ('cvec', CountVectorizer()),\n",
    "    ('rf' , RandomForestClassifier())\n",
    "])\n",
    "\n",
    "pipe_parames_cvec_random = {\n",
    "    'cvec__max_features': [None, 2000, 3000, 5000], # CountVectorizer Hyperparameters\n",
    "    'cvec__min_df': [1,2,3],\n",
    "    'cvec__max_df': [.85,.90, .95],\n",
    "    'cvec__stop_words': [None,'english'],\n",
    "    'cvec__ngram_range': [(1,1), (1,2)],\n",
    "    'rf__n_estimators': [100, 150, 200], # RandomForest Hyperparameters\n",
    "    'rf__max_depth': [None, 1, 2, 3, 4, 5]\n",
    "}\n"
   ]
  },
  {
   "cell_type": "markdown",
   "id": "e14c6bd1-b320-426d-b7f8-a6ede6e553e5",
   "metadata": {},
   "source": [
    "#### _GridSearch_"
   ]
  },
  {
   "cell_type": "code",
   "execution_count": 12,
   "id": "3b66e962-31c9-4d58-b34d-af394a4b07fa",
   "metadata": {},
   "outputs": [
    {
     "data": {
      "text/plain": [
       "GridSearchCV(cv=5,\n",
       "             estimator=Pipeline(steps=[('cvec', CountVectorizer()),\n",
       "                                       ('rf', RandomForestClassifier())]),\n",
       "             n_jobs=6,\n",
       "             param_grid={'cvec__max_df': [0.85, 0.9, 0.95],\n",
       "                         'cvec__max_features': [None, 2000, 3000, 5000],\n",
       "                         'cvec__min_df': [1, 2, 3],\n",
       "                         'cvec__ngram_range': [(1, 1), (1, 2)],\n",
       "                         'cvec__stop_words': [None, 'english'],\n",
       "                         'rf__max_depth': [None, 1, 2, 3, 4, 5],\n",
       "                         'rf__n_estimators': [100, 150, 200]})"
      ]
     },
     "execution_count": 12,
     "metadata": {},
     "output_type": "execute_result"
    }
   ],
   "source": [
    "gs_rf = GridSearchCV(pipe_cvec_random, param_grid=pipe_parames_cvec_random, cv=5, n_jobs=6)\n",
    "gs_rf.fit(X_train, y_train)"
   ]
  },
  {
   "cell_type": "markdown",
   "id": "d06fb111-f070-4ca2-b672-fc69845b8e50",
   "metadata": {},
   "source": [
    "#### _Scores_"
   ]
  },
  {
   "cell_type": "code",
   "execution_count": 13,
   "id": "caf1b9e5-0116-4def-984a-eec4ecb4ead9",
   "metadata": {},
   "outputs": [
    {
     "data": {
      "text/plain": [
       "0.8669789227166277"
      ]
     },
     "execution_count": 13,
     "metadata": {},
     "output_type": "execute_result"
    }
   ],
   "source": [
    "gs_rf.best_score_"
   ]
  },
  {
   "cell_type": "code",
   "execution_count": 14,
   "id": "8fd495d2-86ed-46cb-9b9a-8fe25075534d",
   "metadata": {},
   "outputs": [
    {
     "data": {
      "text/plain": [
       "0.9911007025761124"
      ]
     },
     "execution_count": 14,
     "metadata": {},
     "output_type": "execute_result"
    }
   ],
   "source": [
    "gs_rf.score(X_train, y_train) # Train"
   ]
  },
  {
   "cell_type": "code",
   "execution_count": 15,
   "id": "59bb676d-087c-41b3-bfd5-2e782f02d65a",
   "metadata": {},
   "outputs": [
    {
     "data": {
      "text/plain": [
       "0.8395061728395061"
      ]
     },
     "execution_count": 15,
     "metadata": {},
     "output_type": "execute_result"
    }
   ],
   "source": [
    "gs_rf.score(X_test,y_test) # Test"
   ]
  },
  {
   "cell_type": "code",
   "execution_count": 16,
   "id": "bd63f287-887c-4856-86f0-5ffd4cf71b2c",
   "metadata": {},
   "outputs": [
    {
     "data": {
      "text/plain": [
       "{'cvec__max_df': 0.9,\n",
       " 'cvec__max_features': None,\n",
       " 'cvec__min_df': 3,\n",
       " 'cvec__ngram_range': (1, 2),\n",
       " 'cvec__stop_words': None,\n",
       " 'rf__max_depth': None,\n",
       " 'rf__n_estimators': 150}"
      ]
     },
     "execution_count": 16,
     "metadata": {},
     "output_type": "execute_result"
    }
   ],
   "source": [
    "gs_rf.best_params_"
   ]
  },
  {
   "cell_type": "markdown",
   "id": "84caaf58-56ce-4b0a-8093-af9334118257",
   "metadata": {},
   "source": [
    "##### _The scores are a indicator of how the model is working on `train` and `test` dataset. With accuracy dropped in `test` data, it demonstrated the model is overfitting. Additionally, the best hyperparameter that we have `GridSearch` on are also listed above._"
   ]
  },
  {
   "cell_type": "code",
   "execution_count": 17,
   "id": "f9fa0a96-5370-46f2-ae18-38508e796147",
   "metadata": {},
   "outputs": [],
   "source": [
    "pred_rf = gs_rf.predict(X_test)"
   ]
  },
  {
   "cell_type": "markdown",
   "id": "3fe766cd-0d66-4e73-85c9-051c2dc7e3e2",
   "metadata": {},
   "source": [
    "#### _Random Forest Evaluation & Metrics_"
   ]
  },
  {
   "cell_type": "code",
   "execution_count": 18,
   "id": "cb244170-099a-4993-85d9-ef3bd9295a0c",
   "metadata": {},
   "outputs": [
    {
     "data": {
      "image/png": "[encoded data removed]",
      "text/plain": [
       "<Figure size 432x288 with 2 Axes>"
      ]
     },
     "metadata": {
      "needs_background": "light"
     },
     "output_type": "display_data"
    }
   ],
   "source": [
    "plot_confusion_matrix(gs_rf, X_test, y_test, cmap='Blues', \n",
    "                      values_format='d',display_labels=['Crypto', 'Stock'])\n",
    "plt.show()"
   ]
  },
  {
   "cell_type": "code",
   "execution_count": 19,
   "id": "ca0a27f8-49f0-4ac2-b9fe-fdea997c619c",
   "metadata": {},
   "outputs": [],
   "source": [
    "tn, fp, fn, tp = confusion_matrix(y_test, pred_rf).ravel()\n",
    "specificity = tn / (tn+fp)"
   ]
  },
  {
   "cell_type": "code",
   "execution_count": 20,
   "id": "618b48da-0f99-4ae0-b766-693a9eca10da",
   "metadata": {},
   "outputs": [],
   "source": [
    "tn, fp, fn, tp = confusion_matrix(y_test, pred_rf).ravel()\n",
    "specificity_rf = tn / (tn+fp)"
   ]
  },
  {
   "cell_type": "code",
   "execution_count": 21,
   "id": "d1c33a69-c836-4b69-b501-5a2e6667ea2a",
   "metadata": {},
   "outputs": [
    {
     "name": "stdout",
     "output_type": "stream",
     "text": [
      "Accuracy Score:0.8395061728395061\n",
      "Sensitivity Score:0.9193302891933028\n",
      "Precision Score:0.8388888888888889\n",
      "Specificity Score:0.7070707070707071\n"
     ]
    }
   ],
   "source": [
    "print (f'Accuracy Score:{accuracy_score(y_test, pred_rf)}')\n",
    "print (f'Sensitivity Score:{recall_score(y_test, pred_rf)}')\n",
    "print (f'Precision Score:{precision_score(y_test, pred_rf)}')\n",
    "print (f'Specificity Score:{specificity_rf}')"
   ]
  },
  {
   "cell_type": "markdown",
   "id": "e5a77479-3f08-426e-8aba-732d60987d09",
   "metadata": {},
   "source": [
    "#### CountVectorizer with Logistic Regression Classifier"
   ]
  },
  {
   "cell_type": "markdown",
   "id": "20f6494e-c089-4ab8-8246-03a32cc6c538",
   "metadata": {},
   "source": [
    "#### _Setting up pipeline_"
   ]
  },
  {
   "cell_type": "code",
   "execution_count": 22,
   "id": "d85557a5-6136-41ee-b0ac-6307a4e0f55f",
   "metadata": {},
   "outputs": [],
   "source": [
    "pipe_cvec_lr = Pipeline([\n",
    "    ('cvec', CountVectorizer()),\n",
    "    ('lr', LogisticRegression())\n",
    "])\n",
    "\n",
    "pipe_params_cvec_lr = {\n",
    "    'cvec__max_features': [None, 2000, 5000], # CountVectorizer Hyperparameters\n",
    "    'cvec__min_df': [1,2,3],\n",
    "    'cvec__max_df': [.85, .90, .95],\n",
    "    'cvec__stop_words': [None,'english'],\n",
    "    'cvec__ngram_range': [(1,1), (1,2)],\n",
    "    'cvec__stop_words': [None,'english'],\n",
    "    'lr__penalty': [None, 'l2']\n",
    "}"
   ]
  },
  {
   "cell_type": "markdown",
   "id": "7fecd966-0022-4c6e-8721-2d76dd8c035d",
   "metadata": {},
   "source": [
    "#### _GridSearch_"
   ]
  },
  {
   "cell_type": "code",
   "execution_count": 23,
   "id": "fb23f874-4058-415f-a40a-a7978efcd111",
   "metadata": {},
   "outputs": [
    {
     "name": "stderr",
     "output_type": "stream",
     "text": [
      "/Users/jay/opt/anaconda3/lib/python3.8/site-packages/sklearn/model_selection/_search.py:918: UserWarning: One or more of the test scores are non-finite: [       nan 0.84964871        nan 0.86135831        nan 0.84309133\n",
      "        nan 0.85667447        nan 0.84355972        nan 0.85901639\n",
      "        nan 0.84309133        nan 0.85995316        nan 0.84074941\n",
      "        nan 0.85854801        nan 0.84074941        nan 0.85854801\n",
      "        nan 0.84637002        nan 0.86135831        nan 0.84215457\n",
      "        nan 0.85948478        nan 0.84355972        nan 0.85901639\n",
      "        nan 0.84309133        nan 0.85995316        nan 0.84074941\n",
      "        nan 0.85854801        nan 0.84074941        nan 0.85854801\n",
      "        nan 0.84964871        nan 0.86135831        nan 0.84543326\n",
      "        nan 0.86088993        nan 0.84355972        nan 0.85901639\n",
      "        nan 0.84309133        nan 0.85995316        nan 0.84074941\n",
      "        nan 0.85854801        nan 0.84074941        nan 0.85854801\n",
      "        nan 0.84964871        nan 0.86135831        nan 0.84309133\n",
      "        nan 0.85667447        nan 0.84355972        nan 0.85901639\n",
      "        nan 0.84309133        nan 0.85995316        nan 0.84074941\n",
      "        nan 0.85854801        nan 0.84074941        nan 0.85854801\n",
      "        nan 0.84637002        nan 0.86135831        nan 0.84215457\n",
      "        nan 0.85948478        nan 0.84355972        nan 0.85901639\n",
      "        nan 0.84309133        nan 0.85995316        nan 0.84074941\n",
      "        nan 0.85854801        nan 0.84074941        nan 0.85854801\n",
      "        nan 0.84964871        nan 0.86135831        nan 0.84543326\n",
      "        nan 0.86088993        nan 0.84355972        nan 0.85901639\n",
      "        nan 0.84309133        nan 0.85995316        nan 0.84074941\n",
      "        nan 0.85854801        nan 0.84074941        nan 0.85854801\n",
      "        nan 0.84964871        nan 0.86135831        nan 0.84309133\n",
      "        nan 0.85667447        nan 0.84355972        nan 0.85901639\n",
      "        nan 0.84309133        nan 0.85995316        nan 0.84074941\n",
      "        nan 0.85854801        nan 0.84074941        nan 0.85854801\n",
      "        nan 0.84637002        nan 0.86135831        nan 0.84215457\n",
      "        nan 0.85948478        nan 0.84355972        nan 0.85901639\n",
      "        nan 0.84309133        nan 0.85995316        nan 0.84074941\n",
      "        nan 0.85854801        nan 0.84074941        nan 0.85854801\n",
      "        nan 0.84964871        nan 0.86135831        nan 0.84543326\n",
      "        nan 0.86088993        nan 0.84355972        nan 0.85901639\n",
      "        nan 0.84309133        nan 0.85995316        nan 0.84074941\n",
      "        nan 0.85854801        nan 0.84074941        nan 0.85854801]\n",
      "  warnings.warn(\n"
     ]
    },
    {
     "data": {
      "text/plain": [
       "GridSearchCV(cv=5,\n",
       "             estimator=Pipeline(steps=[('cvec', CountVectorizer()),\n",
       "                                       ('lr', LogisticRegression())]),\n",
       "             n_jobs=8,\n",
       "             param_grid={'cvec__max_df': [0.85, 0.9, 0.95],\n",
       "                         'cvec__max_features': [None, 2000, 5000],\n",
       "                         'cvec__min_df': [1, 2, 3],\n",
       "                         'cvec__ngram_range': [(1, 1), (1, 2)],\n",
       "                         'cvec__stop_words': [None, 'english'],\n",
       "                         'lr__penalty': [None, 'l2']})"
      ]
     },
     "execution_count": 23,
     "metadata": {},
     "output_type": "execute_result"
    }
   ],
   "source": [
    "gs_lr = GridSearchCV(pipe_cvec_lr, param_grid=pipe_params_cvec_lr, cv=5,n_jobs = 8)\n",
    "gs_lr.fit(X_train,y_train)"
   ]
  },
  {
   "cell_type": "markdown",
   "id": "dd7e4b5a-0ec2-409a-b633-8bbd33eed963",
   "metadata": {},
   "source": [
    "#### _Scores_"
   ]
  },
  {
   "cell_type": "code",
   "execution_count": 24,
   "id": "7a93672c-268e-4f4a-a0ae-54d8a16ba4d7",
   "metadata": {},
   "outputs": [
    {
     "data": {
      "text/plain": [
       "0.9648711943793911"
      ]
     },
     "execution_count": 24,
     "metadata": {},
     "output_type": "execute_result"
    }
   ],
   "source": [
    "gs_lr.score(X_train, y_train) # Train"
   ]
  },
  {
   "cell_type": "code",
   "execution_count": 25,
   "id": "ff206256-f098-4aa2-ae57-fe7cacf13c14",
   "metadata": {},
   "outputs": [
    {
     "data": {
      "text/plain": [
       "0.8490028490028491"
      ]
     },
     "execution_count": 25,
     "metadata": {},
     "output_type": "execute_result"
    }
   ],
   "source": [
    "gs_lr.score(X_test, y_test) # Test"
   ]
  },
  {
   "cell_type": "code",
   "execution_count": 26,
   "id": "b5a6d280-5d49-4a75-addb-9db47bd199aa",
   "metadata": {},
   "outputs": [
    {
     "data": {
      "text/plain": [
       "{'cvec__max_df': 0.85,\n",
       " 'cvec__max_features': None,\n",
       " 'cvec__min_df': 1,\n",
       " 'cvec__ngram_range': (1, 1),\n",
       " 'cvec__stop_words': 'english',\n",
       " 'lr__penalty': 'l2'}"
      ]
     },
     "execution_count": 26,
     "metadata": {},
     "output_type": "execute_result"
    }
   ],
   "source": [
    "gs_lr.best_params_"
   ]
  },
  {
   "cell_type": "markdown",
   "id": "88dff28d-df98-44ea-b5c7-5a933373d726",
   "metadata": {},
   "source": [
    "##### _Same as Random Forest Model, scores are a indicator of how the model is working on `train` and `test` dataset. Even the gap between `train` and `test` are smaller, but still a indication of overfitting. Additionally, the best hyperparameter that we have `GridSearch` on are also listed above._"
   ]
  },
  {
   "cell_type": "code",
   "execution_count": 27,
   "id": "5de2064c-32cd-43da-bd48-c51b8ccc40ad",
   "metadata": {},
   "outputs": [],
   "source": [
    "pred_lr = gs_lr.predict(X_test)"
   ]
  },
  {
   "cell_type": "markdown",
   "id": "536f3c6a-4a76-46c1-99eb-74efadcc60c0",
   "metadata": {},
   "source": [
    "#### _Logistic Regression Evaluation & Metrics_"
   ]
  },
  {
   "cell_type": "code",
   "execution_count": 28,
   "id": "94674b50-858c-4b11-9fb4-ef57417d1fb2",
   "metadata": {},
   "outputs": [
    {
     "data": {
      "image/png": "[encoded data removed]",
      "text/plain": [
       "<Figure size 432x288 with 2 Axes>"
      ]
     },
     "metadata": {
      "needs_background": "light"
     },
     "output_type": "display_data"
    }
   ],
   "source": [
    "plot_confusion_matrix(gs_lr, X_test, y_test, cmap='Blues', \n",
    "                      values_format='d',display_labels=['Crypto', 'Stock'])\n",
    "plt.show()"
   ]
  },
  {
   "cell_type": "code",
   "execution_count": 29,
   "id": "c58eaa83-cdd3-43e9-985c-fc1f9370f9f1",
   "metadata": {},
   "outputs": [],
   "source": [
    "tn, fp, fn, tp = confusion_matrix(y_test, pred_lr).ravel()\n",
    "specificity = tn / (tn+fp)"
   ]
  },
  {
   "cell_type": "code",
   "execution_count": 30,
   "id": "1a221f09-545b-4a74-8e5b-832ad91d6fe8",
   "metadata": {},
   "outputs": [
    {
     "name": "stdout",
     "output_type": "stream",
     "text": [
      "Accuracy Score:0.8490028490028491\n",
      "Sensitivity Score:0.9452054794520548\n",
      "Precision Score:0.8346774193548387\n",
      "Specificity Score:0.6893939393939394\n"
     ]
    }
   ],
   "source": [
    "print (f'Accuracy Score:{accuracy_score(y_test, pred_lr)}')\n",
    "print (f'Sensitivity Score:{recall_score(y_test, pred_lr)}')\n",
    "print (f'Precision Score:{precision_score(y_test, pred_lr)}')\n",
    "print (f'Specificity Score:{specificity}')"
   ]
  },
  {
   "cell_type": "markdown",
   "id": "ccac5b50-5001-4cee-bb79-dcededae838f",
   "metadata": {},
   "source": [
    "## Model Evaluations"
   ]
  },
  {
   "cell_type": "markdown",
   "id": "5ba03ca0-8711-43db-a5d4-3eeb64ca7b28",
   "metadata": {},
   "source": [
    "#### _Metrics Summary_"
   ]
  },
  {
   "cell_type": "markdown",
   "id": "bc964b71-4756-4578-a407-206d23263ccd",
   "metadata": {},
   "source": [
    "|  | Random Forest | Logistic Regression |\n",
    "|---|---|---|\n",
    "| Accuracy Score | 0.840 | 0.850 |\n",
    "| Sensitivity Score | 0.920 | 0.945 |\n",
    "| Precision Score | 0.839 | 0.835 |\n",
    "| Specificity | 0.707 | 0.690 |"
   ]
  },
  {
   "cell_type": "markdown",
   "id": "d0dcc12f-fae4-46b3-87e1-d52237ea4f23",
   "metadata": {},
   "source": [
    "##### _Just based on the `Accuracy Score`, we can conclude, the `Logistic Regression` Model performed better._"
   ]
  },
  {
   "cell_type": "markdown",
   "id": "4edd0597-c4fe-46ec-8fd1-859cc4ed0969",
   "metadata": {},
   "source": [
    "#### _`ROC` Curve Comparison_"
   ]
  },
  {
   "cell_type": "code",
   "execution_count": 31,
   "id": "57e100ea-9047-41a8-9397-da6d783fa22b",
   "metadata": {},
   "outputs": [
    {
     "data": {
      "image/png": "[encoded data removed]",
      "text/plain": [
       "<Figure size 1152x720 with 1 Axes>"
      ]
     },
     "metadata": {
      "needs_background": "light"
     },
     "output_type": "display_data"
    }
   ],
   "source": [
    "classifiers = [gs_rf, gs_lr]\n",
    "fig, ax = plt.subplots(figsize=(16, 10))\n",
    "ax = plt.gca()\n",
    "for i in classifiers:\n",
    "    plot_roc_curve(i, X_test, y_test, ax=ax)\n",
    "    plt.plot([0, 1], [0, 1], label=\"baseline\", linestyle=\"--\")\n",
    "    plt.legend(loc='center right', labels=['Random Forest', 'Baseline', 'Linear Regression'],fontsize=15, title_fontsize=20)\n",
    "    plt.title ('ROC Curve for Random Forest and Logistic Regression Models', fontsize = 18)\n",
    "    plt.savefig('../image/roc_curve')"
   ]
  },
  {
   "cell_type": "markdown",
   "id": "1c4184f4-6570-4221-bcc8-7c173e48474a",
   "metadata": {},
   "source": [
    "##### _The `ROC` curve provide a visualization to compare the two models.It shows the trade-off between Sensitivity and Specificity. In general, our models that give curves closer to the top-left corner indicates a better performance. The dotted line is the baseline where the Sensitivity equals to Specificity. In another word, the closer the curves get to the baseline the less accurate the model._ "
   ]
  },
  {
   "cell_type": "markdown",
   "id": "fb71a11a-0f1b-4ca6-b361-ea9fc84f115b",
   "metadata": {},
   "source": [
    "#### _Model Prediction Comparison_"
   ]
  },
  {
   "cell_type": "code",
   "execution_count": 32,
   "id": "624adccc-f688-4b97-b4e3-f509b4f1e910",
   "metadata": {},
   "outputs": [],
   "source": [
    "pred_lr = gs_lr.predict(X_test)"
   ]
  },
  {
   "cell_type": "code",
   "execution_count": 33,
   "id": "44e2a9c2-9509-4872-aaf0-c326ee9a5303",
   "metadata": {},
   "outputs": [],
   "source": [
    "data_com = data.loc[X_test.index]"
   ]
  },
  {
   "cell_type": "code",
   "execution_count": 34,
   "id": "3b065a99-8019-4fd6-a390-3ff8c30321f0",
   "metadata": {},
   "outputs": [],
   "source": [
    "data_com['predicted_outcome'] = pred_lr"
   ]
  },
  {
   "cell_type": "code",
   "execution_count": 35,
   "id": "6e169a31-5cb5-452d-9ceb-b12e79740a1b",
   "metadata": {},
   "outputs": [],
   "source": [
    "pd.set_option('display.max_colwidth', 0)"
   ]
  },
  {
   "cell_type": "code",
   "execution_count": 39,
   "id": "bbbd939f-d4ab-4029-8113-888906d468f8",
   "metadata": {},
   "outputs": [
    {
     "data": {
      "text/html": [
       "<div>\n",
       "<style scoped>\n",
       "    .dataframe tbody tr th:only-of-type {\n",
       "        vertical-align: middle;\n",
       "    }\n",
       "\n",
       "    .dataframe tbody tr th {\n",
       "        vertical-align: top;\n",
       "    }\n",
       "\n",
       "    .dataframe thead th {\n",
       "        text-align: right;\n",
       "    }\n",
       "</style>\n",
       "<table border=\"1\" class=\"dataframe\">\n",
       "  <thead>\n",
       "    <tr style=\"text-align: right;\">\n",
       "      <th></th>\n",
       "      <th>title</th>\n",
       "      <th>subreddit</th>\n",
       "      <th>clean_title</th>\n",
       "      <th>cat_subreddit</th>\n",
       "      <th>word_count</th>\n",
       "      <th>character_count</th>\n",
       "      <th>predicted_outcome</th>\n",
       "    </tr>\n",
       "  </thead>\n",
       "  <tbody>\n",
       "    <tr>\n",
       "      <th>3068</th>\n",
       "      <td>Anyone Heard of Notional Finance ($NOTE)?</td>\n",
       "      <td>CryptoCurrency</td>\n",
       "      <td>anyone heard of notional finance note</td>\n",
       "      <td>0</td>\n",
       "      <td>6</td>\n",
       "      <td>37</td>\n",
       "      <td>1</td>\n",
       "    </tr>\n",
       "  </tbody>\n",
       "</table>\n",
       "</div>"
      ],
      "text/plain": [
       "                                          title       subreddit  \\\n",
       "3068  Anyone Heard of Notional Finance ($NOTE)?  CryptoCurrency   \n",
       "\n",
       "                                clean_title  cat_subreddit  word_count  \\\n",
       "3068  anyone heard of notional finance note  0              6            \n",
       "\n",
       "      character_count  predicted_outcome  \n",
       "3068  37               1                  "
      ]
     },
     "execution_count": 39,
     "metadata": {},
     "output_type": "execute_result"
    }
   ],
   "source": [
    "data_com.loc[data_com['cat_subreddit'] != data_com['predicted_outcome']].sample(1, random_state=20)"
   ]
  },
  {
   "cell_type": "code",
   "execution_count": 37,
   "id": "72a1e3ae-697e-48fa-b452-0896efcc66e5",
   "metadata": {},
   "outputs": [
    {
     "data": {
      "text/html": [
       "<div>\n",
       "<style scoped>\n",
       "    .dataframe tbody tr th:only-of-type {\n",
       "        vertical-align: middle;\n",
       "    }\n",
       "\n",
       "    .dataframe tbody tr th {\n",
       "        vertical-align: top;\n",
       "    }\n",
       "\n",
       "    .dataframe thead th {\n",
       "        text-align: right;\n",
       "    }\n",
       "</style>\n",
       "<table border=\"1\" class=\"dataframe\">\n",
       "  <thead>\n",
       "    <tr style=\"text-align: right;\">\n",
       "      <th></th>\n",
       "      <th>title</th>\n",
       "      <th>subreddit</th>\n",
       "      <th>clean_title</th>\n",
       "      <th>cat_subreddit</th>\n",
       "      <th>word_count</th>\n",
       "      <th>character_count</th>\n",
       "      <th>predicted_outcome</th>\n",
       "    </tr>\n",
       "  </thead>\n",
       "  <tbody>\n",
       "    <tr>\n",
       "      <th>443</th>\n",
       "      <td>Finally made it to $51,000 in my main brokerage account! Broke out to all time highs, mainly due to my options trading this month. Gotta love untaxed gains and NVDA calls 🚀😈</td>\n",
       "      <td>StockMarket</td>\n",
       "      <td>finally made it to 51000 in my main brokerage account broke out to all time highs mainly due to my options trading this month got to love untaxed gains and nvda calls</td>\n",
       "      <td>1</td>\n",
       "      <td>32</td>\n",
       "      <td>167</td>\n",
       "      <td>1</td>\n",
       "    </tr>\n",
       "  </tbody>\n",
       "</table>\n",
       "</div>"
      ],
      "text/plain": [
       "                                                                                                                                                                             title  \\\n",
       "443  Finally made it to $51,000 in my main brokerage account! Broke out to all time highs, mainly due to my options trading this month. Gotta love untaxed gains and NVDA calls 🚀😈   \n",
       "\n",
       "       subreddit  \\\n",
       "443  StockMarket   \n",
       "\n",
       "                                                                                                                                                                 clean_title  \\\n",
       "443  finally made it to 51000 in my main brokerage account broke out to all time highs mainly due to my options trading this month got to love untaxed gains and nvda calls    \n",
       "\n",
       "     cat_subreddit  word_count  character_count  predicted_outcome  \n",
       "443  1              32          167              1                  "
      ]
     },
     "execution_count": 37,
     "metadata": {},
     "output_type": "execute_result"
    }
   ],
   "source": [
    "data_com.loc[data_com['cat_subreddit'] == data_com['predicted_outcome']].sample(1, random_state = 5)"
   ]
  },
  {
   "cell_type": "markdown",
   "id": "7aad291c-d94d-4f4e-8c60-4b33b6561b57",
   "metadata": {},
   "source": [
    "##### _Based on the `ROC` curve and different classification metric, the Logistic Regression Model has a better outcome on accurately predicts subreddit based on title text. However, we also want to know more insight about the Logistic Regression. The above two table shows the scenarios when the model correctly predicts the outcome and incorrectly predicts the outcome.In general, the model predicts correctly, when the text contains some defining words like `options`. On the other hand, the incorrect predicted subreddit is a more general text that doesn't contains signature features to differentiate._"
   ]
  },
  {
   "cell_type": "markdown",
   "id": "e854aaf8-d700-4302-8340-6d6cf17eb221",
   "metadata": {},
   "source": [
    "## Conclusions and Recommendations\n",
    "_In this project we have built two models, Random Forest and Logistic Regression with CountVecorizer. Overall, both model performed better than our baseline accuracy of 62.4%._\n",
    "\n",
    "_We can observe both of the models shows varies degrees of **overfittings**. Based on the basic metric of accuracy, **Logistic Regression with CountVectorizer perform better in this project.**_\n",
    "\n",
    "_As recommending the Logistic Regression model to a Crypto Currency trading software companies to post software advertisement, it is also important to evaluate some other metrics like Sensitivity. **Sensitivity scores** explains among those CryptoCurrency subreddit, how many did the model predict correctly. For Random Forest Model, the sensitivity score is 92.0%. On the other hand, the Logistic Regression has a 94.5% sensitivity scores. Logistic Regression model performed much better than the Random Forest Model. Specifically, as the software company is targeting potential consumers, high sensitivity rate will allow the company target more direct consumers correctly for its Crypto Currency software._\n",
    "\n",
    "\n",
    "_For future improvement to the model, the following steps can be considered:_ \n",
    "- _In the EDA part, we have found some words can be lemmatized such as Stock vs Stocks. Therefore, more deep cleaning to the original data can be done before modeling._ \n",
    "- _As`StockMarket` and `CryptoCurrency` are very closed topics, there are lots of overlapping words that appears in both subreddit. To better fit our model, we can consider remove these word to reduce some noise in our model._\n",
    "- _Additionally, we might need to start considering emojis in our model. There are some certain emojis may help to differentiate posts. Based on the source, some emoji patterns are being used for Cryptocurrency for different subject. ([Source](https://www.blockchaincenter.net/crypto-emoji-cheat-sheet/))_"
   ]
  },
  {
   "cell_type": "code",
   "execution_count": null,
   "id": "5fca0c80-1cd3-40bd-b36c-e938c3350ab3",
   "metadata": {},
   "outputs": [],
   "source": []
  }
 ],
 "metadata": {
  "kernelspec": {
   "display_name": "Python 3",
   "language": "python",
   "name": "python3"
  },
  "language_info": {
   "codemirror_mode": {
    "name": "ipython",
    "version": 3
   },
   "file_extension": ".py",
   "mimetype": "text/x-python",
   "name": "python",
   "nbconvert_exporter": "python",
   "pygments_lexer": "ipython3",
   "version": "3.8.8"
  },
  "widgets": {
   "application/vnd.jupyter.widget-state+json": {
    "state": {},
    "version_major": 2,
    "version_minor": 0
   }
  }
 },
 "nbformat": 4,
 "nbformat_minor": 5
}
